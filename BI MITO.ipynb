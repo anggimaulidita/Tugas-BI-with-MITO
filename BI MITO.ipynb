{
 "cells": [
  {
   "cell_type": "code",
   "execution_count": 1,
   "id": "495e3e05",
   "metadata": {},
   "outputs": [],
   "source": [
    "import mitosheet"
   ]
  },
  {
   "cell_type": "code",
   "execution_count": 2,
   "id": "c81af3af",
   "metadata": {},
   "outputs": [
    {
     "data": {
      "application/vnd.jupyter.widget-view+json": {
       "model_id": "4dcc2e49a40a4f8aa4c8dd5832ac7cdf",
       "version_major": 2,
       "version_minor": 0
      },
      "text/plain": [
       "MitoWidget(analysis_data_json='{\"analysisName\": \"id-wvbirxkeiy\", \"analysisToReplay\": null, \"code\": [], \"stepSu…"
      ]
     },
     "metadata": {},
     "output_type": "display_data"
    }
   ],
   "source": [
    "import mitosheet\n",
    "mitosheet.sheet(analysis_to_replay=\"id-wvbirxkeiy\")"
   ]
  },
  {
   "cell_type": "code",
   "execution_count": null,
   "id": "1282db5c",
   "metadata": {},
   "outputs": [],
   "source": [
    "from mitosheet import *; register_analysis(\"id-wvbirxkeiy\");\n",
    "    \n",
    "# Imported SalesPerson from C:\\Users\\asus\\StudiKasus_BI-master\\SalesPerson.xlsx\n",
    "import pandas as pd\n",
    "sheet_df_dictonary = pd.read_excel(r'C:\\Users\\asus\\StudiKasus_BI-master\\SalesPerson.xlsx', engine='openpyxl', sheet_name=['SalesPerson'], skiprows=4)\n",
    "SalesPerson = sheet_df_dictonary['SalesPerson']\n",
    "\n",
    "# Pivoted into SalesPerson\n",
    "tmp_df = SalesPerson[['SalesID', 'HireDate', 'Name and Title']]\n",
    "pivot_table = tmp_df.pivot_table(\n",
    "    index=['SalesID'],\n",
    "    columns=['Name and Title'],\n",
    "    values=['HireDate'],\n",
    "    aggfunc={'HireDate': ['count']}\n",
    ")\n",
    "pivot_table.set_axis([flatten_column_header(col) for col in pivot_table.keys()], axis=1, inplace=True)\n",
    "SalesPerson_pivot = pivot_table.reset_index()\n"
   ]
  },
  {
   "cell_type": "code",
   "execution_count": 3,
   "id": "36772baf",
   "metadata": {},
   "outputs": [
    {
     "data": {
      "application/vnd.jupyter.widget-view+json": {
       "model_id": "b54d5266753743cabef8e84088250ee0",
       "version_major": 2,
       "version_minor": 0
      },
      "text/plain": [
       "MitoWidget(analysis_data_json='{\"analysisName\": \"id-rjzxnyhuou\", \"analysisToReplay\": null, \"code\": [], \"stepSu…"
      ]
     },
     "metadata": {},
     "output_type": "display_data"
    },
    {
     "name": "stderr",
     "output_type": "stream",
     "text": [
      "Backing off send_request(...) for 0.9s (requests.exceptions.ReadTimeout: HTTPSConnectionPool(host='api.segment.io', port=443): Read timed out. (read timeout=15))\n"
     ]
    }
   ],
   "source": [
    "import mitosheet\n",
    "mitosheet.sheet(analysis_to_replay=\"id-rjzxnyhuou\")"
   ]
  },
  {
   "cell_type": "code",
   "execution_count": null,
   "id": "9e13ac88",
   "metadata": {},
   "outputs": [],
   "source": [
    "from mitosheet import *; register_analysis(\"id-rjzxnyhuou\");\n",
    "    \n",
    "# Imported Product, Category, Supplier from C:\\Users\\asus\\StudiKasus_BI-master\\Product.xlsx\n",
    "import pandas as pd\n",
    "sheet_df_dictonary = pd.read_excel(r'C:\\Users\\asus\\StudiKasus_BI-master\\Product.xlsx', engine='openpyxl', sheet_name=['Product', 'Category', 'Supplier'], skiprows=0)\n",
    "Product = sheet_df_dictonary['Product']\n",
    "Category = sheet_df_dictonary['Category']\n",
    "Supplier = sheet_df_dictonary['Supplier']\n",
    "\n",
    "# Pivoted into Supplier\n",
    "tmp_df = Supplier[['Address', 'SupplierID', 'PostalCode']]\n",
    "pivot_table = tmp_df.pivot_table(\n",
    "    index=['SupplierID'],\n",
    "    columns=['Address'],\n",
    "    values=['PostalCode'],\n",
    "    aggfunc={'PostalCode': ['count']}\n",
    ")\n",
    "pivot_table.set_axis([flatten_column_header(col) for col in pivot_table.keys()], axis=1, inplace=True)\n",
    "Supplier_pivot = pivot_table.reset_index()\n"
   ]
  },
  {
   "cell_type": "code",
   "execution_count": 4,
   "id": "e6d733d2",
   "metadata": {},
   "outputs": [
    {
     "data": {
      "application/vnd.jupyter.widget-view+json": {
       "model_id": "db73aaf0d8b64ceeb72aa3442e869743",
       "version_major": 2,
       "version_minor": 0
      },
      "text/plain": [
       "MitoWidget(analysis_data_json='{\"analysisName\": \"id-mwheeqrmeb\", \"analysisToReplay\": null, \"code\": [], \"stepSu…"
      ]
     },
     "metadata": {},
     "output_type": "display_data"
    }
   ],
   "source": [
    "import mitosheet\n",
    "mitosheet.sheet(analysis_to_replay=\"id-mwheeqrmeb\")"
   ]
  },
  {
   "cell_type": "code",
   "execution_count": null,
   "id": "74ce4a79",
   "metadata": {},
   "outputs": [],
   "source": [
    "from mitosheet import *; register_analysis(\"id-mwheeqrmeb\");\n",
    "    \n",
    "# Imported Product, Category, Supplier from C:\\Users\\asus\\StudiKasus_BI-master\\Product.xlsx\n",
    "import pandas as pd\n",
    "sheet_df_dictonary = pd.read_excel(r'C:\\Users\\asus\\StudiKasus_BI-master\\Product.xlsx', engine='openpyxl', sheet_name=['Product', 'Category', 'Supplier'], skiprows=0)\n",
    "Product = sheet_df_dictonary['Product']\n",
    "Category = sheet_df_dictonary['Category']\n",
    "Supplier = sheet_df_dictonary['Supplier']\n",
    "\n",
    "# Imported Product, Category, Supplier from C:\\Users\\asus\\StudiKasus_BI-master\\Product.xlsx\n",
    "import pandas as pd\n",
    "sheet_df_dictonary = pd.read_excel(r'C:\\Users\\asus\\StudiKasus_BI-master\\Product.xlsx', engine='openpyxl', sheet_name=['Product', 'Category', 'Supplier'], skiprows=0)\n",
    "Product_1 = sheet_df_dictonary['Product']\n",
    "Category_1 = sheet_df_dictonary['Category']\n",
    "Supplier_1 = sheet_df_dictonary['Supplier']\n",
    "\n",
    "# Pivoted into Category\n",
    "tmp_df = Category[['Description', 'CategoryName', 'CategoryID']]\n",
    "pivot_table = tmp_df.pivot_table(\n",
    "    index=['CategoryName'],\n",
    "    columns=['Description'],\n",
    "    values=['CategoryID'],\n",
    "    aggfunc={'CategoryID': ['count']}\n",
    ")\n",
    "pivot_table.set_axis([flatten_column_header(col) for col in pivot_table.keys()], axis=1, inplace=True)\n",
    "Category_pivot = pivot_table.reset_index()\n"
   ]
  },
  {
   "cell_type": "code",
   "execution_count": 5,
   "id": "34013f99",
   "metadata": {},
   "outputs": [
    {
     "data": {
      "application/vnd.jupyter.widget-view+json": {
       "model_id": "bf13a9ae627740f4a7f48539be4648b7",
       "version_major": 2,
       "version_minor": 0
      },
      "text/plain": [
       "MitoWidget(analysis_data_json='{\"analysisName\": \"id-volwsthvhc\", \"analysisToReplay\": null, \"code\": [], \"stepSu…"
      ]
     },
     "metadata": {},
     "output_type": "display_data"
    }
   ],
   "source": [
    "import mitosheet\n",
    "mitosheet.sheet(analysis_to_replay=\"id-volwsthvhc\")"
   ]
  },
  {
   "cell_type": "code",
   "execution_count": null,
   "id": "0cf0b872",
   "metadata": {},
   "outputs": [],
   "source": [
    "from mitosheet import *; register_analysis(\"id-volwsthvhc\");\n",
    "    \n",
    "# Imported SalesPerson from C:\\Users\\asus\\StudiKasus_BI-master\\SalesPerson.xlsx\n",
    "import pandas as pd\n",
    "sheet_df_dictonary = pd.read_excel(r'C:\\Users\\asus\\StudiKasus_BI-master\\SalesPerson.xlsx', engine='openpyxl', sheet_name=['SalesPerson'], skiprows=0)\n",
    "SalesPerson = sheet_df_dictonary['SalesPerson']\n",
    "\n",
    "# Imported SalesPerson from C:\\Users\\asus\\StudiKasus_BI-master\\SalesPerson.xlsx\n",
    "import pandas as pd\n",
    "sheet_df_dictonary = pd.read_excel(r'C:\\Users\\asus\\StudiKasus_BI-master\\SalesPerson.xlsx', engine='openpyxl', sheet_name=['SalesPerson'], skiprows=3)\n",
    "SalesPerson_1 = sheet_df_dictonary['SalesPerson']\n",
    "\n",
    "# Imported SalesPerson from C:\\Users\\asus\\StudiKasus_BI-master\\SalesPerson.xlsx\n",
    "import pandas as pd\n",
    "sheet_df_dictonary = pd.read_excel(r'C:\\Users\\asus\\StudiKasus_BI-master\\SalesPerson.xlsx', engine='openpyxl', sheet_name=['SalesPerson'], skiprows=4)\n",
    "SalesPerson_2 = sheet_df_dictonary['SalesPerson']\n",
    "\n",
    "# Pivoted into SalesPerson\n",
    "tmp_df = SalesPerson[['Unnamed: 3', 'Unnamed: 2', 'Unnamed: 1']]\n",
    "pivot_table = tmp_df.pivot_table(\n",
    "    index=['Unnamed: 1'],\n",
    "    columns=['Unnamed: 2'],\n",
    "    values=['Unnamed: 3'],\n",
    "    aggfunc={'Unnamed: 3': ['count']}\n",
    ")\n",
    "pivot_table.set_axis([flatten_column_header(col) for col in pivot_table.keys()], axis=1, inplace=True)\n",
    "SalesPerson_pivot = pivot_table.reset_index()\n"
   ]
  }
 ],
 "metadata": {
  "kernelspec": {
   "display_name": "Python 3 (ipykernel)",
   "language": "python",
   "name": "python3"
  },
  "language_info": {
   "codemirror_mode": {
    "name": "ipython",
    "version": 3
   },
   "file_extension": ".py",
   "mimetype": "text/x-python",
   "name": "python",
   "nbconvert_exporter": "python",
   "pygments_lexer": "ipython3",
   "version": "3.9.7"
  }
 },
 "nbformat": 4,
 "nbformat_minor": 5
}
